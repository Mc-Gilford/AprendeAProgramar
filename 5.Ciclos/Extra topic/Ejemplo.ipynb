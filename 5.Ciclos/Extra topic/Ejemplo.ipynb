{
  "nbformat": 4,
  "nbformat_minor": 0,
  "metadata": {
    "colab": {
      "name": "Untitled0.ipynb",
      "provenance": [],
      "collapsed_sections": [],
      "authorship_tag": "ABX9TyOKXZj0l57shmhvbOh1NrjI",
      "include_colab_link": true
    },
    "kernelspec": {
      "name": "python3",
      "display_name": "Python 3"
    },
    "language_info": {
      "name": "python"
    }
  },
  "cells": [
    {
      "cell_type": "markdown",
      "metadata": {
        "id": "view-in-github",
        "colab_type": "text"
      },
      "source": [
        "<a href=\"https://colab.research.google.com/github/McGilfordJose/AprendeAProgramar/blob/main/Ejemplo.ipynb\" target=\"_parent\"><img src=\"https://colab.research.google.com/assets/colab-badge.svg\" alt=\"Open In Colab\"/></a>"
      ]
    },
    {
      "cell_type": "code",
      "metadata": {
        "id": "puE5g9yiJrif",
        "colab": {
          "base_uri": "https://localhost:8080/"
        },
        "outputId": "bffc67cf-e9a3-4a13-eca9-b942738c17b8"
      },
      "source": [
        "i =5\n",
        "print(\"Hola mundo \", i)"
      ],
      "execution_count": 1,
      "outputs": [
        {
          "output_type": "stream",
          "name": "stdout",
          "text": [
            "Hola mundo  5\n"
          ]
        }
      ]
    }
  ]
}